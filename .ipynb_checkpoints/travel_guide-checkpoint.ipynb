{
 "cells": [
  {
   "cell_type": "code",
   "execution_count": null,
   "id": "8a24bf34",
   "metadata": {},
   "outputs": [],
   "source": [
    "import os\n",
    "import openai\n",
    "import requests\n",
    "import json\n",
    "from dotenv import load_dotenv, find_dotenv\n",
    "\n",
    "_ = load_dotenv(find_dotenv()) # read local .env file\n",
    "openai.api_key = os.environ['OPENAI_API_KEY']"
   ]
  },
  {
   "cell_type": "code",
   "execution_count": null,
   "id": "dfc62c42",
   "metadata": {},
   "outputs": [],
   "source": [
    "def get_travel_itinerary(location,days):\n",
    "    url = \"https://ai-trip-planner.p.rapidapi.com/\"\n",
    "\n",
    "    querystring = {\"days\":days,\"destination\":location}\n",
    "\n",
    "    headers = {\n",
    "        \"X-RapidAPI-Key\": os.environ['RAPID_API_KEY'],\n",
    "        \"X-RapidAPI-Host\": \"ai-trip-planner.p.rapidapi.com\"\n",
    "    }\n",
    "\n",
    "    response = requests.get(url, headers=headers, params=querystring)\n",
    "\n",
    "    if response.status_code == 200:\n",
    "        return response.json()\n",
    "    else:\n",
    "        return None\n",
    "    "
   ]
  },
  {
   "cell_type": "code",
   "execution_count": null,
   "id": "06402830",
   "metadata": {},
   "outputs": [],
   "source": [
    "def run_conversation(question):\n",
    "    response = openai.ChatCompletion.create(\n",
    "        model=\"gpt-3.5-turbo-0613\",\n",
    "        messages=[{\"role\": \"user\", \"content\": question}],\n",
    "        functions=[\n",
    "            {\n",
    "                \"name\": \"get_travel_itinerary\",\n",
    "                \"description\": \"Get a travel itinerary from an API\",\n",
    "                \"parameters\": {\n",
    "                    \"type\": \"object\",\n",
    "                    \"properties\": {\n",
    "                        \"location\": {\n",
    "                            \"type\": \"string\",\n",
    "                            \"description\": \"The location that the user will travel to\",\n",
    "                        },\n",
    "                        \"days\": {\n",
    "                            \"type\": \"string\",\n",
    "                            \"description\": \"The number of days the that the user will stay for\"\n",
    "                        }\n",
    "                    },\n",
    "                    \"required\": [\"location\"],\n",
    "                },\n",
    "            }\n",
    "        ],\n",
    "        function_call=\"auto\",\n",
    "    )\n",
    "    \n",
    "    message = response[\"choices\"][0][\"message\"]\n",
    "    \n",
    "    \n",
    "    if message.get(\"function_call\"):\n",
    "        function_name = message[\"function_call\"][\"name\"]\n",
    "        args = message[\"function_call\"][\"arguments\"]\n",
    "        json_args = json.loads(args)\n",
    "        \n",
    "        function_response = get_travel_itinerary(\n",
    "            location=json_args.get(\"location\"),\n",
    "            days=json_args.get(\"days\")\n",
    "        )\n",
    "        \n",
    "        \n",
    "        second_response = openai.ChatCompletion.create(\n",
    "            model=\"gpt-3.5-turbo-0613\",\n",
    "            messages=[\n",
    "                {\"role\": \"system\", \"content\": \"You are a travel guide who will provide a travel itinerary based on where the user is going and how many days. Using the provided data, expand on into a detailed list. Ensure that the distances between the locations in the itinerary are close to each other\"},\n",
    "                {\"role\": \"user\", \"content\": question},\n",
    "                message,\n",
    "                {\n",
    "                    \"role\": \"function\",\n",
    "                    \"name\": function_name,\n",
    "                    \"content\": json.dumps(function_response),\n",
    "                },\n",
    "            ],\n",
    "        )\n",
    "        \n",
    "        return second_response[\"choices\"][0][\"message\"][\"content\"]\n"
   ]
  },
  {
   "cell_type": "code",
   "execution_count": null,
   "id": "3c65c884",
   "metadata": {},
   "outputs": [],
   "source": [
    "print(run_conversation(question=\"I'm staying in Melbourne, Australia for 12 days, my hotel is located at Richmond. tell me where I should go during my stay?\"))\n"
   ]
  },
  {
   "cell_type": "code",
   "execution_count": null,
   "id": "9cff6f60",
   "metadata": {},
   "outputs": [],
   "source": []
  }
 ],
 "metadata": {
  "kernelspec": {
   "display_name": "Python 3 (ipykernel)",
   "language": "python",
   "name": "python3"
  },
  "language_info": {
   "codemirror_mode": {
    "name": "ipython",
    "version": 3
   },
   "file_extension": ".py",
   "mimetype": "text/x-python",
   "name": "python",
   "nbconvert_exporter": "python",
   "pygments_lexer": "ipython3",
   "version": "3.8.16"
  }
 },
 "nbformat": 4,
 "nbformat_minor": 5
}
