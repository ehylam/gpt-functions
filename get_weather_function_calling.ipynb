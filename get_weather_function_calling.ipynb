{
 "cells": [
  {
   "cell_type": "code",
   "execution_count": 3,
   "id": "4bf971a2",
   "metadata": {},
   "outputs": [],
   "source": [
    "import os\n",
    "import openai\n",
    "import json\n",
    "from dotenv import load_dotenv, find_dotenv\n",
    "\n",
    "_ = load_dotenv(find_dotenv()) # read local .env file\n",
    "openai.api_key = os.environ['OPENAI_API_KEY']"
   ]
  },
  {
   "cell_type": "code",
   "execution_count": 10,
   "id": "d4fab80e",
   "metadata": {},
   "outputs": [],
   "source": [
    "def get_current_weather(location, unit=\"celsius\"):\n",
    "    \"\"\"Get the current weather in a given location\"\"\"\n",
    "    weather_info = {\n",
    "        \"location\": location,\n",
    "        \"temperature\": \"23\",\n",
    "        \"unit\": unit,\n",
    "        \"forecast\": [\"sunny\", \"windy\"],\n",
    "    }\n",
    "    \n",
    "    return json.dumps(weather_info)\n",
    "\n",
    "def get_weather(question):\n",
    "    response = openai.ChatCompletion.create(\n",
    "        model=\"gpt-3.5-turbo-0613\",\n",
    "        messages=[\n",
    "          {\"role\": \"user\", \"content\": question}\n",
    "        ],\n",
    "        functions=[\n",
    "            {\n",
    "                \"name\": \"get_current_weather\",\n",
    "                \"description\": \"Get the current weather in a given location\",\n",
    "                \"parameters\": {\n",
    "                    \"type\": \"object\",\n",
    "                    \"properties\": {\n",
    "                        \"location\": {\n",
    "                            \"type\": \"string\",\n",
    "                            \"description\": \"The city and state, e.g. San Francisco, CA\",\n",
    "                        },\n",
    "                        \"unit\": {\"type\": \"string\", \"enum\": [\"celsius\", \"fahrenheit\"]},\n",
    "                    },\n",
    "                    \"required\": [\"location\"],\n",
    "                },\n",
    "            }\n",
    "        ],\n",
    "        function_call=\"auto\",\n",
    "    )\n",
    "    \n",
    "    message = response[\"choices\"][0][\"message\"]\n",
    "    \n",
    "    return message.get(\"location\")\n",
    "        \n",
    "#     if message.get(\"function_call\"):\n",
    "#         function_name = message[\"function_call\"][\"name\"]\n",
    "\n",
    "        \n",
    "#         function_response = get_current_weather(\n",
    "#             location=message.get(\"location\"),\n",
    "#             unit=message.get(\"unit\"),\n",
    "#         )\n",
    "\n",
    "#         second_response = openai.ChatCompletion.create(\n",
    "#             model=\"gpt-3.5-turbo-0613\",\n",
    "#             messages=[\n",
    "#                 {\"role\": \"user\", \"content\": \"What is the weather like in Melbourne?\"},\n",
    "#                 message,\n",
    "#                 {\n",
    "#                     \"role\": \"function\",\n",
    "#                     \"name\": function_name,\n",
    "#                     \"content\": function_response,\n",
    "#                 },\n",
    "#             ],\n",
    "#         )\n",
    "#         return second_response"
   ]
  },
  {
   "cell_type": "code",
   "execution_count": 12,
   "id": "b15dacba",
   "metadata": {},
   "outputs": [
    {
     "name": "stdout",
     "output_type": "stream",
     "text": [
      "None\n"
     ]
    }
   ],
   "source": [
    "print(get_weather('melbourne'))"
   ]
  },
  {
   "cell_type": "code",
   "execution_count": null,
   "id": "8174d3b2",
   "metadata": {},
   "outputs": [],
   "source": []
  }
 ],
 "metadata": {
  "kernelspec": {
   "display_name": "Python 3 (ipykernel)",
   "language": "python",
   "name": "python3"
  },
  "language_info": {
   "codemirror_mode": {
    "name": "ipython",
    "version": 3
   },
   "file_extension": ".py",
   "mimetype": "text/x-python",
   "name": "python",
   "nbconvert_exporter": "python",
   "pygments_lexer": "ipython3",
   "version": "3.8.16"
  }
 },
 "nbformat": 4,
 "nbformat_minor": 5
}
