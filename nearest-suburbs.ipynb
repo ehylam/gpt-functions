{
 "cells": [
  {
   "cell_type": "code",
   "execution_count": 119,
   "id": "892bfc9e",
   "metadata": {},
   "outputs": [],
   "source": [
    "import os\n",
    "import openai\n",
    "import requests\n",
    "import json\n",
    "from dotenv import load_dotenv, find_dotenv\n",
    "\n",
    "_ = load_dotenv(find_dotenv()) # read local .env file\n",
    "openai.api_key = os.environ['OPENAI_API_KEY']"
   ]
  },
  {
   "cell_type": "code",
   "execution_count": 120,
   "id": "7308c8e3",
   "metadata": {},
   "outputs": [],
   "source": [
    "def get_suburbs_by_postcode(postcode):\n",
    "    url = f\"https://v0.postcodeapi.com.au/suburbs/{postcode}.json\"\n",
    "    response = requests.get(url)\n",
    "    if response.status_code == 200:\n",
    "        return response.json()\n",
    "    else:\n",
    "        return None\n",
    "    \n",
    "    "
   ]
  },
  {
   "cell_type": "code",
   "execution_count": 124,
   "id": "133bfcec",
   "metadata": {},
   "outputs": [],
   "source": [
    "def run_conversation(question):\n",
    "    response = openai.ChatCompletion.create(\n",
    "        model=\"gpt-3.5-turbo-0613\",\n",
    "        messages=[{\"role\": \"user\", \"content\": question}],\n",
    "        functions=[\n",
    "            {\n",
    "                \"name\": \"get_suburbs_by_postcode\",\n",
    "                \"description\": \"Get the suburbs in a given postcode\",\n",
    "                \"parameters\": {\n",
    "                    \"type\": \"object\",\n",
    "                    \"properties\": {\n",
    "                        \"postcode\": {\n",
    "                            \"type\": \"string\",\n",
    "                            \"description\": \"The postcode number, e.g. 2000\",\n",
    "                        },\n",
    "                    },\n",
    "                    \"required\": [\"postcode\"],\n",
    "                },\n",
    "            }\n",
    "        ],\n",
    "        function_call=\"auto\",\n",
    "    )\n",
    "    \n",
    "    message = response[\"choices\"][0][\"message\"]\n",
    "    \n",
    "    if message.get(\"function_call\"):\n",
    "        function_name = message[\"function_call\"][\"name\"]\n",
    "        args = message[\"function_call\"][\"arguments\"]\n",
    "        json_args = json.loads(args)\n",
    "        \n",
    "        function_response = get_suburbs_by_postcode(\n",
    "            postcode=json_args.get(\"postcode\")\n",
    "        )\n",
    "        \n",
    "        \n",
    "        second_response = openai.ChatCompletion.create(\n",
    "            model=\"gpt-3.5-turbo-0613\",\n",
    "            messages=[\n",
    "                {\"role\": \"user\", \"content\": question},\n",
    "                message,\n",
    "                {\n",
    "                    \"role\": \"function\",\n",
    "                    \"name\": function_name,\n",
    "                    \"content\": json.dumps(function_response),\n",
    "                },\n",
    "            ],\n",
    "        )\n",
    "        \n",
    "        return second_response\n"
   ]
  },
  {
   "cell_type": "code",
   "execution_count": 125,
   "id": "53469def",
   "metadata": {},
   "outputs": [
    {
     "name": "stdout",
     "output_type": "stream",
     "text": [
      "{\n",
      "  \"choices\": [\n",
      "    {\n",
      "      \"finish_reason\": \"stop\",\n",
      "      \"index\": 0,\n",
      "      \"message\": {\n",
      "        \"content\": \"The suburbs in the 2500 postcode area are:\\n1. West Wollongong\\n2. North Wollongong\\n3. Spring Hill\\n4. Mount Saint Thomas\\n5. Wollongong\\n6. Wollongong DC\\n7. Mangerton\\n8. Coniston\\n9. Keiraville\\n10. Wollongong West\\n11. Mount Keira\\n12. Gwynneville\",\n",
      "        \"role\": \"assistant\"\n",
      "      }\n",
      "    }\n",
      "  ],\n",
      "  \"created\": 1686741217,\n",
      "  \"id\": \"chatcmpl-7RIjRxrnxrGB1MCG2UGijTsSQ6U3E\",\n",
      "  \"model\": \"gpt-3.5-turbo-0613\",\n",
      "  \"object\": \"chat.completion\",\n",
      "  \"usage\": {\n",
      "    \"completion_tokens\": 90,\n",
      "    \"prompt_tokens\": 770,\n",
      "    \"total_tokens\": 860\n",
      "  }\n",
      "}\n"
     ]
    }
   ],
   "source": [
    "print(run_conversation(question=\"What suburbs are in the 2500 postcode area?\"))"
   ]
  }
 ],
 "metadata": {
  "kernelspec": {
   "display_name": "Python 3 (ipykernel)",
   "language": "python",
   "name": "python3"
  },
  "language_info": {
   "codemirror_mode": {
    "name": "ipython",
    "version": 3
   },
   "file_extension": ".py",
   "mimetype": "text/x-python",
   "name": "python",
   "nbconvert_exporter": "python",
   "pygments_lexer": "ipython3",
   "version": "3.8.16"
  }
 },
 "nbformat": 4,
 "nbformat_minor": 5
}
